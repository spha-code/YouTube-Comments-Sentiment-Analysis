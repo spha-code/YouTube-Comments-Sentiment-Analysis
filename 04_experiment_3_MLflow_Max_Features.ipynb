{
  "cells": [
    {
      "cell_type": "markdown",
      "metadata": {
        "id": "Yc1yy6ROBzkp"
      },
      "source": [
        "# How many max features?"
      ]
    },
    {
      "cell_type": "code",
      "execution_count": null,
      "metadata": {
        "colab": {
          "base_uri": "https://localhost:8080/"
        },
        "id": "zCaTy90rkk3Q",
        "outputId": "f8c31242-c0a4-475f-80b8-dde0d1cdc5fd"
      },
      "outputs": [],
      "source": [
        "!pip install mlflow"
      ]
    },
    {
      "cell_type": "code",
      "execution_count": null,
      "metadata": {},
      "outputs": [],
      "source": [
        "- Set up the MLflow tracking server locally\n",
        "- To CONTNUE RUN THIS COMMAND IN TERMINAL!\n",
        "- mlflow server --backend-store-uri sqlite:///mlflow.db --default-artifact-root ./mlruns --host 127.0.0.1 --port 5000"
      ]
    },
    {
      "cell_type": "code",
      "execution_count": 8,
      "metadata": {
        "id": "PbtsROvKl_V2"
      },
      "outputs": [],
      "source": [
        "import mlflow\n",
        "\n",
        "# Set local MLflow tracking URI\n",
        "mlflow.set_tracking_uri(\"http://127.0.0.1:5000\")"
      ]
    },
    {
      "cell_type": "code",
      "execution_count": 9,
      "metadata": {
        "colab": {
          "base_uri": "https://localhost:8080/"
        },
        "id": "ORtN_HMHmJC-",
        "outputId": "b30d499d-e7af-4ade-af80-b5b976288472"
      },
      "outputs": [
        {
          "data": {
            "text/plain": [
              "<Experiment: artifact_location='/home/user/Youtube-Comments-Sentiment-Analysis/mlruns/7', creation_time=1752938517619, experiment_id='7', last_update_time=1752938517619, lifecycle_stage='active', name='Exp 3 - TfIdf Trigram max_features', tags={}>"
            ]
          },
          "execution_count": 9,
          "metadata": {},
          "output_type": "execute_result"
        }
      ],
      "source": [
        "# Set or create an experiment\n",
        "mlflow.set_experiment(\"Exp 3 - TfIdf Trigram max_features\")"
      ]
    },
    {
      "cell_type": "code",
      "execution_count": 4,
      "metadata": {
        "id": "zMUpXMeSmQiH"
      },
      "outputs": [],
      "source": [
        "from sklearn.feature_extraction.text import TfidfVectorizer\n",
        "from sklearn.ensemble import RandomForestClassifier\n",
        "from sklearn.model_selection import train_test_split\n",
        "from sklearn.metrics import accuracy_score, classification_report, confusion_matrix\n",
        "import mlflow\n",
        "import mlflow.sklearn\n",
        "import matplotlib.pyplot as plt\n",
        "import seaborn as sns\n",
        "import pandas as pd\n",
        "import os"
      ]
    },
    {
      "cell_type": "code",
      "execution_count": 5,
      "metadata": {
        "colab": {
          "base_uri": "https://localhost:8080/"
        },
        "id": "iA8IXLHhmT_r",
        "outputId": "479b95f7-c446-48f2-d3b9-20c96734a589"
      },
      "outputs": [
        {
          "data": {
            "text/plain": [
              "(119455, 2)"
            ]
          },
          "execution_count": 5,
          "metadata": {},
          "output_type": "execute_result"
        }
      ],
      "source": [
        "df = pd.read_csv('data/sentiment_analysis.csv').dropna(subset=['clean_comment'])\n",
        "df.shape"
      ]
    },
    {
      "cell_type": "code",
      "execution_count": 6,
      "metadata": {
        "colab": {
          "base_uri": "https://localhost:8080/"
        },
        "id": "99A50tSPmXde",
        "outputId": "0e967f6f-a835-48bb-a950-db4ef0957931"
      },
      "outputs": [
        {
          "name": "stderr",
          "output_type": "stream",
          "text": [
            "\u001b[31m2025/07/19 17:22:56 WARNING mlflow.models.model: Model logged without a signature and input example. Please set `input_example` parameter when logging the model to auto infer the model signature.\u001b[0m\n"
          ]
        },
        {
          "name": "stdout",
          "output_type": "stream",
          "text": [
            "🏃 View run TFIDF_Trigrams_max_features_1000 at: http://127.0.0.1:5000/#/experiments/7/runs/655681eaf19b4be696e9aa45c26271f8\n",
            "🧪 View experiment at: http://127.0.0.1:5000/#/experiments/7\n"
          ]
        },
        {
          "name": "stderr",
          "output_type": "stream",
          "text": [
            "\u001b[31m2025/07/19 17:23:21 WARNING mlflow.models.model: Model logged without a signature and input example. Please set `input_example` parameter when logging the model to auto infer the model signature.\u001b[0m\n"
          ]
        },
        {
          "name": "stdout",
          "output_type": "stream",
          "text": [
            "🏃 View run TFIDF_Trigrams_max_features_2000 at: http://127.0.0.1:5000/#/experiments/7/runs/887e307aaeba4f449fb5d6478b1643d6\n",
            "🧪 View experiment at: http://127.0.0.1:5000/#/experiments/7\n"
          ]
        },
        {
          "name": "stderr",
          "output_type": "stream",
          "text": [
            "\u001b[31m2025/07/19 17:23:43 WARNING mlflow.models.model: Model logged without a signature and input example. Please set `input_example` parameter when logging the model to auto infer the model signature.\u001b[0m\n"
          ]
        },
        {
          "name": "stdout",
          "output_type": "stream",
          "text": [
            "🏃 View run TFIDF_Trigrams_max_features_3000 at: http://127.0.0.1:5000/#/experiments/7/runs/5712bec6f3d94f61a1d817229f513a0b\n",
            "🧪 View experiment at: http://127.0.0.1:5000/#/experiments/7\n"
          ]
        },
        {
          "name": "stderr",
          "output_type": "stream",
          "text": [
            "\u001b[31m2025/07/19 17:24:05 WARNING mlflow.models.model: Model logged without a signature and input example. Please set `input_example` parameter when logging the model to auto infer the model signature.\u001b[0m\n"
          ]
        },
        {
          "name": "stdout",
          "output_type": "stream",
          "text": [
            "🏃 View run TFIDF_Trigrams_max_features_4000 at: http://127.0.0.1:5000/#/experiments/7/runs/c7e0fd15d9944df3801907fc104e8b9c\n",
            "🧪 View experiment at: http://127.0.0.1:5000/#/experiments/7\n"
          ]
        },
        {
          "name": "stderr",
          "output_type": "stream",
          "text": [
            "\u001b[31m2025/07/19 17:24:29 WARNING mlflow.models.model: Model logged without a signature and input example. Please set `input_example` parameter when logging the model to auto infer the model signature.\u001b[0m\n"
          ]
        },
        {
          "name": "stdout",
          "output_type": "stream",
          "text": [
            "🏃 View run TFIDF_Trigrams_max_features_5000 at: http://127.0.0.1:5000/#/experiments/7/runs/d27b8a466f0f43b4807ab3476554c3ac\n",
            "🧪 View experiment at: http://127.0.0.1:5000/#/experiments/7\n"
          ]
        },
        {
          "name": "stderr",
          "output_type": "stream",
          "text": [
            "\u001b[31m2025/07/19 17:24:52 WARNING mlflow.models.model: Model logged without a signature and input example. Please set `input_example` parameter when logging the model to auto infer the model signature.\u001b[0m\n"
          ]
        },
        {
          "name": "stdout",
          "output_type": "stream",
          "text": [
            "🏃 View run TFIDF_Trigrams_max_features_6000 at: http://127.0.0.1:5000/#/experiments/7/runs/5e27aea9536a4323ac59bb8981f9b5da\n",
            "🧪 View experiment at: http://127.0.0.1:5000/#/experiments/7\n"
          ]
        },
        {
          "name": "stderr",
          "output_type": "stream",
          "text": [
            "\u001b[31m2025/07/19 17:25:18 WARNING mlflow.models.model: Model logged without a signature and input example. Please set `input_example` parameter when logging the model to auto infer the model signature.\u001b[0m\n"
          ]
        },
        {
          "name": "stdout",
          "output_type": "stream",
          "text": [
            "🏃 View run TFIDF_Trigrams_max_features_7000 at: http://127.0.0.1:5000/#/experiments/7/runs/80fbe73d044743b6a2acb25243a5ff41\n",
            "🧪 View experiment at: http://127.0.0.1:5000/#/experiments/7\n"
          ]
        },
        {
          "name": "stderr",
          "output_type": "stream",
          "text": [
            "\u001b[31m2025/07/19 17:25:42 WARNING mlflow.models.model: Model logged without a signature and input example. Please set `input_example` parameter when logging the model to auto infer the model signature.\u001b[0m\n"
          ]
        },
        {
          "name": "stdout",
          "output_type": "stream",
          "text": [
            "🏃 View run TFIDF_Trigrams_max_features_8000 at: http://127.0.0.1:5000/#/experiments/7/runs/2b35128b4a574bf4b1ba23b699e2c8c1\n",
            "🧪 View experiment at: http://127.0.0.1:5000/#/experiments/7\n"
          ]
        },
        {
          "name": "stderr",
          "output_type": "stream",
          "text": [
            "\u001b[31m2025/07/19 17:26:03 WARNING mlflow.models.model: Model logged without a signature and input example. Please set `input_example` parameter when logging the model to auto infer the model signature.\u001b[0m\n"
          ]
        },
        {
          "name": "stdout",
          "output_type": "stream",
          "text": [
            "🏃 View run TFIDF_Trigrams_max_features_9000 at: http://127.0.0.1:5000/#/experiments/7/runs/59d3d9d315724d08bd568fee6fde8b60\n",
            "🧪 View experiment at: http://127.0.0.1:5000/#/experiments/7\n"
          ]
        },
        {
          "name": "stderr",
          "output_type": "stream",
          "text": [
            "\u001b[31m2025/07/19 17:26:28 WARNING mlflow.models.model: Model logged without a signature and input example. Please set `input_example` parameter when logging the model to auto infer the model signature.\u001b[0m\n"
          ]
        },
        {
          "name": "stdout",
          "output_type": "stream",
          "text": [
            "🏃 View run TFIDF_Trigrams_max_features_10000 at: http://127.0.0.1:5000/#/experiments/7/runs/1f0b26f062644edfa2b972defadc7ad9\n",
            "🧪 View experiment at: http://127.0.0.1:5000/#/experiments/7\n"
          ]
        }
      ],
      "source": [
        "# Step 1: Function to run the experiment\n",
        "def run_experiment_tfidf_max_features(max_features):\n",
        "    ngram_range = (1, 3)  # Trigram setting\n",
        "\n",
        "    # Step 2: Vectorization using TF-IDF with varying max_features\n",
        "    vectorizer = TfidfVectorizer(ngram_range=ngram_range, max_features=max_features)\n",
        "\n",
        "    X_train, X_test, y_train, y_test = train_test_split(df['clean_comment'], df['category'], test_size=0.2, random_state=42, stratify=df['category'])\n",
        "\n",
        "    X_train = vectorizer.fit_transform(X_train)\n",
        "    X_test = vectorizer.transform(X_test)\n",
        "\n",
        "    # Step 4: Define and train a Random Forest model\n",
        "    with mlflow.start_run() as run:\n",
        "        # Set tags for the experiment and run\n",
        "        mlflow.set_tag(\"mlflow.runName\", f\"TFIDF_Trigrams_max_features_{max_features}\")\n",
        "        mlflow.set_tag(\"experiment_type\", \"feature_engineering\")\n",
        "        mlflow.set_tag(\"model_type\", \"RandomForestClassifier\")\n",
        "\n",
        "        # Add a description\n",
        "        mlflow.set_tag(\"description\", f\"RandomForest with TF-IDF Trigrams, max_features={max_features}\")\n",
        "\n",
        "        # Log vectorizer parameters\n",
        "        mlflow.log_param(\"vectorizer_type\", \"TF-IDF\")\n",
        "        mlflow.log_param(\"ngram_range\", ngram_range)\n",
        "        mlflow.log_param(\"vectorizer_max_features\", max_features)\n",
        "\n",
        "        # Log Random Forest parameters\n",
        "        n_estimators = 200\n",
        "        max_depth = 15\n",
        "\n",
        "        mlflow.log_param(\"n_estimators\", n_estimators)\n",
        "        mlflow.log_param(\"max_depth\", max_depth)\n",
        "\n",
        "        # Initialize and train the model\n",
        "        model = RandomForestClassifier(n_estimators=n_estimators, max_depth=max_depth, random_state=42)\n",
        "        model.fit(X_train, y_train)\n",
        "\n",
        "        # Step 5: Make predictions and log metrics\n",
        "        y_pred = model.predict(X_test)\n",
        "\n",
        "        # Log accuracy\n",
        "        accuracy = accuracy_score(y_test, y_pred)\n",
        "        mlflow.log_metric(\"accuracy\", accuracy)\n",
        "\n",
        "        # Log classification report\n",
        "        classification_rep = classification_report(y_test, y_pred, output_dict=True)\n",
        "        for label, metrics in classification_rep.items():\n",
        "            if isinstance(metrics, dict):\n",
        "                for metric, value in metrics.items():\n",
        "                    mlflow.log_metric(f\"{label}_{metric}\", value)\n",
        "\n",
        "        # Log confusion matrix\n",
        "        conf_matrix = confusion_matrix(y_test, y_pred)\n",
        "        plt.figure(figsize=(8, 6))\n",
        "        sns.heatmap(conf_matrix, annot=True, fmt=\"d\", cmap=\"Blues\")\n",
        "        plt.xlabel(\"Predicted\")\n",
        "        plt.ylabel(\"Actual\")\n",
        "        plt.title(f\"Confusion Matrix: TF-IDF Trigrams, max_features={max_features}\")\n",
        "        plt.savefig(\"confusion_matrix.png\")\n",
        "        mlflow.log_artifact(\"confusion_matrix.png\")\n",
        "        plt.close()\n",
        "\n",
        "        # Log the model\n",
        "        mlflow.sklearn.log_model(model, f\"random_forest_model_tfidf_trigrams_{max_features}\")\n",
        "\n",
        "# Step 6: Test various max_features values\n",
        "max_features_values = [1000, 2000, 3000, 4000, 5000, 6000, 7000, 8000, 9000, 10000]\n",
        "\n",
        "for max_features in max_features_values:\n",
        "    run_experiment_tfidf_max_features(max_features)"
      ]
    },
    {
      "cell_type": "code",
      "execution_count": null,
      "metadata": {
        "id": "uHbWPC8Vm2Fm"
      },
      "outputs": [],
      "source": []
    }
  ],
  "metadata": {
    "colab": {
      "provenance": []
    },
    "kernelspec": {
      "display_name": "base",
      "language": "python",
      "name": "python3"
    },
    "language_info": {
      "codemirror_mode": {
        "name": "ipython",
        "version": 3
      },
      "file_extension": ".py",
      "mimetype": "text/x-python",
      "name": "python",
      "nbconvert_exporter": "python",
      "pygments_lexer": "ipython3",
      "version": "3.12.9"
    }
  },
  "nbformat": 4,
  "nbformat_minor": 0
}
